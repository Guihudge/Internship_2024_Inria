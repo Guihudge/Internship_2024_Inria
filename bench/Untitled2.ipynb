{
 "cells": [
  {
   "cell_type": "code",
   "execution_count": 6,
   "id": "4a027d57-c053-4835-9eca-7624183791d0",
   "metadata": {},
   "outputs": [],
   "source": [
    "import math\n",
    "\n",
    "def divisorGenerator(n, minVal=200):\n",
    "    large_divisors = []\n",
    "    for i in range(minVal, int(math.sqrt(n) + 1)):\n",
    "        if n % i == 0:\n",
    "            yield i\n",
    "            if i*i != n:\n",
    "                large_divisors.append(n / i)\n",
    "    for divisor in reversed(large_divisors):\n",
    "        yield divisor"
   ]
  },
  {
   "cell_type": "code",
   "execution_count": 8,
   "id": "5f1a3b7f-f06a-41dd-aa75-eeda9ecec68e",
   "metadata": {},
   "outputs": [
    {
     "data": {
      "text/plain": [
       "[1, 2, 4, 8, 16, 32, 64, 128.0, 256.0, 512.0, 1024.0, 2048.0, 4096.0, 8192.0]"
      ]
     },
     "execution_count": 8,
     "metadata": {},
     "output_type": "execute_result"
    }
   ],
   "source": [
    "list(divisorGenerator(8192,1))"
   ]
  },
  {
   "cell_type": "code",
   "execution_count": null,
   "id": "c5fcbac5-d8da-4c21-ade5-a162b80f4323",
   "metadata": {},
   "outputs": [],
   "source": []
  }
 ],
 "metadata": {
  "kernelspec": {
   "display_name": "Python 3 (ipykernel)",
   "language": "python",
   "name": "python3"
  },
  "language_info": {
   "codemirror_mode": {
    "name": "ipython",
    "version": 3
   },
   "file_extension": ".py",
   "mimetype": "text/x-python",
   "name": "python",
   "nbconvert_exporter": "python",
   "pygments_lexer": "ipython3",
   "version": "3.12.3"
  }
 },
 "nbformat": 4,
 "nbformat_minor": 5
}
