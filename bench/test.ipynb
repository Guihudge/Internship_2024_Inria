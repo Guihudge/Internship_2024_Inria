{
 "cells": [
  {
   "cell_type": "code",
   "execution_count": 8,
   "metadata": {},
   "outputs": [
    {
     "name": "stdout",
     "output_type": "stream",
     "text": [
      "DSCAL(x561152) take 287.00443399998835ms (2.15% of total time)\n",
      "DGEMM(x4097) take 2823.5894900000003ms (21.13% of total time)\n",
      "DAXPY(x528384) take 365.92446200001615ms (2.74% of total time)\n",
      "MKL total time 3476.52ms (of 13362.97ms runtime), 26.02% of total time\n"
     ]
    }
   ],
   "source": [
    "def convertTime(strTime:str):\n",
    "    if(strTime.endswith(\"ms\")):\n",
    "        return float(strTime[:-2])\n",
    "    elif(strTime.endswith(\"us\")):\n",
    "        return float(strTime[:-2])/1000\n",
    "    elif(strTime.endswith(\"ns\")):\n",
    "        return float(strTime[:-2])/1000000\n",
    "    elif(strTime.endswith(\"s\")):\n",
    "        return float(strTime[:-1])*1000\n",
    "\n",
    "f = open(\"out_mkl\", \"r\")\n",
    "data = []\n",
    "timings= \"\"\n",
    "for l in f.readlines():\n",
    "    if l.startswith(\"MKL\") and not l.endswith(\"gnu_thread\\n\"):\n",
    "        data.append(l)\n",
    "    elif len(l.split(\";\")) == 10 and not l.endswith(\"gflops\\n\"):\n",
    "        timings = l\n",
    "time = float(timings.split(\";\")[8])*1000\n",
    "opTimeSummary = {}\n",
    "opNumber = {}\n",
    "for op in data:\n",
    "    # base time in ms\n",
    "    name = op.split(\" \")[1].split(\"(\")[0]\n",
    "    strTime = op.split(\" \")[2]\n",
    "    if name in opTimeSummary:\n",
    "        opTimeSummary[name] += convertTime(strTime)\n",
    "        opNumber[name] += 1\n",
    "    else:\n",
    "        opTimeSummary[name] = convertTime(strTime)\n",
    "        opNumber[name] = 1\n",
    "\n",
    "opTimeSummary\n",
    "\n",
    "sum = 0\n",
    "for op in opTimeSummary:\n",
    "    print(\"{}(x{}) take {}ms ({:.2f}% of total time)\".format(op,opNumber[op], opTimeSummary[op], (opTimeSummary[op]*100)/time))\n",
    "    sum += opTimeSummary[op]\n",
    "\n",
    "print(\"MKL total time {:.2f}ms (of {:.2f}ms runtime), {:.2f}% of total time\".format(sum,time, (sum*100)/time))\n"
   ]
  }
 ],
 "metadata": {
  "kernelspec": {
   "display_name": ".venv",
   "language": "python",
   "name": "python3"
  },
  "language_info": {
   "codemirror_mode": {
    "name": "ipython",
    "version": 3
   },
   "file_extension": ".py",
   "mimetype": "text/x-python",
   "name": "python",
   "nbconvert_exporter": "python",
   "pygments_lexer": "ipython3",
   "version": "3.10.12"
  }
 },
 "nbformat": 4,
 "nbformat_minor": 2
}
